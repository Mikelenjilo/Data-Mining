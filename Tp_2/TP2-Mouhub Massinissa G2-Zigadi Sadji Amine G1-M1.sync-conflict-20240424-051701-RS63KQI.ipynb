{
 "cells": [
  {
   "cell_type": "markdown",
   "metadata": {},
   "source": [
    "# TP 2\n",
    "#### 1.1 Lecture du benchmark"
   ]
  },
  {
   "cell_type": "code",
   "execution_count": null,
   "metadata": {},
   "outputs": [],
   "source": [
    "from scipy.io.arff import loadarff\n",
    "import pandas as pd\n",
    "\n",
    "data_frame = None\n",
    "file_path = 'heart.csv'\n",
    "if file_path.endswith('.csv'):\n",
    "    data_frame = pd.read_csv(file_path)\n",
    "elif file_path.endswith('.arff'):\n",
    "    raw_data = loadarff(file_path)\n",
    "    data_frame = pd.DataFrame(raw_data[0])\n",
    "else:\n",
    "    print(\"Format de fichier non pris en charge.\")\n",
    "\n",
    "print(data_frame.head())"
   ]
  },
  {
   "cell_type": "markdown",
   "metadata": {},
   "source": [
    "#### 1.2 Preprocessing des donnes\n",
    "Dans cette phase en s'assure que les donnees en bien ete lu et que il n'existent pas de donnees manquantes."
   ]
  },
  {
   "cell_type": "code",
   "execution_count": null,
   "metadata": {},
   "outputs": [],
   "source": [
    "# verification des donnees\n",
    "print(data_frame.head())\n",
    "\n",
    "# remplacer les valeurs manquantes si elles existent\n",
    "attributs = data_frame.columns\n",
    "print(attributs)\n",
    "for attribut in data_frame.columns:\n",
    "    a = data_frame[attribut]\n",
    "    if a.dtype == \"object\":\n",
    "        data_frame.replace('?', a.mode().values[0], inplace=True)\n",
    "    else:\n",
    "        data_frame.replace('?', a.median(), inplace=True)"
   ]
  },
  {
   "cell_type": "markdown",
   "metadata": {},
   "source": [
    "#### 2. La courbe elbow\n",
    "On va lancer l'algorithme de k-means plusieurs fois avec un nombre differents de cluster (on va choisir 20 clusters)"
   ]
  },
  {
   "cell_type": "code",
   "execution_count": null,
   "metadata": {},
   "outputs": [],
   "source": [
    "from sklearn.cluster import KMeans\n",
    "import matplotlib.pyplot as plt\n",
    "\n",
    "data = data_frame.values\n",
    "results = {}\n",
    "\n",
    "for i in range(2, 21, 2):\n",
    "    model = KMeans(n_clusters=i, n_init=\"auto\").fit(data)\n",
    "    results[i] = round(model.inertia_, 2)\n",
    "\n",
    "clusters = list(results.keys())\n",
    "inertia = list(results.values())\n",
    "plt.plot(clusters, inertia, marker='o')\n",
    "plt.xticks(clusters)\n",
    "plt.xlabel('Nombre de clusters')\n",
    "plt.ylabel('Inertie')\n",
    "plt.title('Elbow Method')\n",
    "plt.show()"
   ]
  },
  {
   "cell_type": "markdown",
   "metadata": {},
   "source": [
    "#### 3.1 Algorithme de K-means\n",
    "On execute l'algorithme de K-means avec le nombre optimale qu'on a obtenu a l'aide de la courbe elbow"
   ]
  },
  {
   "cell_type": "code",
   "execution_count": null,
   "metadata": {},
   "outputs": [],
   "source": [
    "n_clusters = int(input(\"Entrez le nombre de clusters: \"))\n",
    "\n",
    "kmeans_model = KMeans(n_clusters=n_clusters, n_init=\"auto\").fit(data)"
   ]
  },
  {
   "cell_type": "markdown",
   "metadata": {},
   "source": [
    "#### 3.2 Distances inter-classes et intra-classes \n",
    "Distances inter-classes: c'est la somme des distances entres les centroids de tous les clusters.\n",
    "\n",
    "Distances intra-classes: c'est la somme des distances entres les points et leur centroids pour tous les clusters."
   ]
  },
  {
   "cell_type": "code",
   "execution_count": null,
   "metadata": {},
   "outputs": [],
   "source": [
    "from math import sqrt\n",
    "\n",
    "def distance_euclidienne(a, b):\n",
    "    dist = []\n",
    "    for i in range(len(a)):\n",
    "        dist.append((a[i] - b[i])**2)\n",
    "    \n",
    "    return sqrt(sum(dist))\n",
    "\n",
    "# distance inter-classes\n",
    "distance_inter_classe_kmeans = round(kmeans_model.inertia_, 2)\n",
    "# distance intra-classe\n",
    "centroids_coords = {}\n",
    "distance_intra_classe_kmeans = 0\n",
    "\n",
    "for index, i in enumerate(kmeans_model.cluster_centers_):\n",
    "    centroids_coords[index] = i\n",
    "\n",
    "for centroid_1 in centroids_coords:\n",
    "    for centroid_2 in centroids_coords:\n",
    "        if centroid_1 != centroid_2:\n",
    "            dist = distance_euclidienne(centroids_coords[centroid_1], centroids_coords[centroid_2]) \n",
    "            distance_intra_classe_kmeans += dist\n",
    "\n",
    "distance_intra_classe_kmeans = round(distance_intra_classe_kmeans, 2)"
   ]
  },
  {
   "cell_type": "markdown",
   "metadata": {},
   "source": [
    "#### 4.1 Algorithme de K-medoids\n",
    "On execute l'algorithme de K-medoids avec le nombre optimale qu'on a obtenu a l'aide de la courbe elbow"
   ]
  },
  {
   "cell_type": "code",
   "execution_count": null,
   "metadata": {},
   "outputs": [],
   "source": [
    "from sklearn_extra.cluster import KMedoids\n",
    "\n",
    "n_clusters = int(input(\"Entrez le nombre de clusters: \"))\n",
    "\n",
    "kmedoid_model = KMedoids(n_clusters=n_clusters).fit(data)\n"
   ]
  },
  {
   "cell_type": "markdown",
   "metadata": {},
   "source": [
    "#### 4.2 Distances inter-classes et intra-classes\n",
    "Distances inter-classes: c'est la somme des distances entres les centroids de tous les clusters.\n",
    "\n",
    "Distances intra-classes: c'est la somme des distances entres les points et leur centroids pour tous les clusters."
   ]
  },
  {
   "cell_type": "code",
   "execution_count": null,
   "metadata": {},
   "outputs": [],
   "source": [
    "# distance inter-classes\n",
    "distance_inter_classe_kmedoid = round(kmedoid_model.inertia_, 2)\n",
    "# distance intra-classe\n",
    "centroids_coords = {}\n",
    "distance_intra_classe_kmedoid = 0\n",
    "\n",
    "for index, i in enumerate(kmedoid_model.cluster_centers_):\n",
    "    centroids_coords[index] = i\n",
    "\n",
    "for centroid_1 in centroids_coords:\n",
    "    for centroid_2 in centroids_coords:\n",
    "        if centroid_1 != centroid_2:\n",
    "            dist = distance_euclidienne(centroids_coords[centroid_1], centroids_coords[centroid_2]) \n",
    "            distance_intra_classe_kmedoid += dist\n",
    "\n",
    "distance_intra_classe_kmedoid = round(distance_intra_classe_kmedoid, 2)"
   ]
  },
  {
   "cell_type": "markdown",
   "metadata": {},
   "source": [
    "#### 5. Histogramme des inerties des deux methodes \n",
    "On etablit l'histrogramme afind de comparer la performances des deux algorithemes"
   ]
  },
  {
   "cell_type": "code",
   "execution_count": null,
   "metadata": {},
   "outputs": [],
   "source": [
    "# histogramme afin de comparer les deux méthodes\n",
    "import numpy as np\n",
    "\n",
    "labels = ['KMeans', 'KMedoids']\n",
    "inter_classes = [distance_inter_classe_kmeans, distance_inter_classe_kmedoid]\n",
    "intra_classes = [distance_intra_classe_kmeans, distance_intra_classe_kmedoid]\n",
    "\n",
    "x = np.array([0, 1])\n",
    "width = 0.3\n",
    "\n",
    "fig, ax = plt.subplots()\n",
    "rects1 = ax.bar(x - width/2, inter_classes, width, label='Distance inter-classes')\n",
    "rects2 = ax.bar(x + width/2, intra_classes, width, label='Distance intra-classes')\n",
    "\n",
    "ax.set_ylabel('Distance')\n",
    "ax.set_title('Distance intra et inter-classes')\n",
    "ax.set_xticks(x)\n",
    "ax.set_xticklabels(labels)\n",
    "ax.legend()\n",
    "\n",
    "fig.tight_layout()\n",
    "\n",
    "plt.show()"
   ]
  },
  {
   "cell_type": "markdown",
   "metadata": {},
   "source": [
    "# Conclusion\n",
    "On conclut que la methode de KMedoids et mieux que le KMeans puisque on obtient des distances bcp moins importantes, et en plus pour le KMeans on au une distance inter-classe tres grande par rapport a la meme distance pour le KMedoids et ceci est probablement a cause des outliers"
   ]
  }
 ],
 "metadata": {
  "kernelspec": {
   "display_name": "Python 3",
   "language": "python",
   "name": "python3"
  },
  "language_info": {
   "codemirror_mode": {
    "name": "ipython",
    "version": 3
   },
   "file_extension": ".py",
   "mimetype": "text/x-python",
   "name": "python",
   "nbconvert_exporter": "python",
   "pygments_lexer": "ipython3",
   "version": "3.11.3"
  }
 },
 "nbformat": 4,
 "nbformat_minor": 2
}
