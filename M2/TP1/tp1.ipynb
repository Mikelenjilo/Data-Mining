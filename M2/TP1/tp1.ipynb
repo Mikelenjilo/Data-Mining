{
 "cells": [
  {
   "cell_type": "markdown",
   "metadata": {},
   "source": [
    "# TP 1"
   ]
  },
  {
   "cell_type": "code",
   "execution_count": 15,
   "metadata": {},
   "outputs": [],
   "source": [
    "import pandas as pd\n",
    "import numpy as np\n",
    "from collections import Counter\n",
    "from sklearn.preprocessing import OneHotEncoder, StandardScaler\n",
    "import matplotlib.pyplot as plt"
   ]
  },
  {
   "cell_type": "markdown",
   "metadata": {},
   "source": [
    "### 1. Preprocessing"
   ]
  },
  {
   "cell_type": "markdown",
   "metadata": {},
   "source": [
    "Importing data"
   ]
  },
  {
   "cell_type": "code",
   "execution_count": null,
   "metadata": {},
   "outputs": [],
   "source": [
    "df = pd.read_csv('Data/breast.csv', na_values='?')\n",
    "\n",
    "df.head()"
   ]
  },
  {
   "cell_type": "markdown",
   "metadata": {},
   "source": [
    "Missing values"
   ]
  },
  {
   "cell_type": "code",
   "execution_count": 16,
   "metadata": {},
   "outputs": [
    {
     "data": {
      "text/plain": [
       "0"
      ]
     },
     "execution_count": 16,
     "metadata": {},
     "output_type": "execute_result"
    }
   ],
   "source": [
    "for column in df.columns:\n",
    "    if pd.api.types.is_numeric_dtype(df[column]):\n",
    "        df[column] = df[column].fillna(df[column].mean())\n",
    "    else:\n",
    "        df[column] = df[column].fillna(df[column].mode()[0])\n",
    "\n",
    "df.isnull().sum().sum()"
   ]
  },
  {
   "cell_type": "markdown",
   "metadata": {},
   "source": [
    "Encoding data (One hot encoding)"
   ]
  },
  {
   "cell_type": "code",
   "execution_count": null,
   "metadata": {},
   "outputs": [],
   "source": [
    "attribt = ''\n",
    "\n",
    "ohe = OneHotEncoder(sparse_output=False).set_output(transform='pandas').fit(df[[attribt]])\n",
    "df = ohe.transform(df[[attribt]])"
   ]
  },
  {
   "cell_type": "markdown",
   "metadata": {},
   "source": [
    "Scalling data"
   ]
  },
  {
   "cell_type": "code",
   "execution_count": 17,
   "metadata": {},
   "outputs": [
    {
     "data": {
      "text/html": [
       "<div>\n",
       "<style scoped>\n",
       "    .dataframe tbody tr th:only-of-type {\n",
       "        vertical-align: middle;\n",
       "    }\n",
       "\n",
       "    .dataframe tbody tr th {\n",
       "        vertical-align: top;\n",
       "    }\n",
       "\n",
       "    .dataframe thead th {\n",
       "        text-align: right;\n",
       "    }\n",
       "</style>\n",
       "<table border=\"1\" class=\"dataframe\">\n",
       "  <thead>\n",
       "    <tr style=\"text-align: right;\">\n",
       "      <th></th>\n",
       "      <th>radius_mean</th>\n",
       "      <th>texture_mean</th>\n",
       "      <th>perimeter_mean</th>\n",
       "      <th>area_mean</th>\n",
       "      <th>smoothness_mean</th>\n",
       "      <th>compactness_mean</th>\n",
       "      <th>concavity_mean</th>\n",
       "      <th>concave_points_mean</th>\n",
       "      <th>symmetry_mean</th>\n",
       "      <th>fractal_dimension_mean</th>\n",
       "      <th>radius_se</th>\n",
       "      <th>texture_se</th>\n",
       "      <th>perimeter_se</th>\n",
       "      <th>area_se</th>\n",
       "      <th>smoothness_se</th>\n",
       "      <th>compactness_se</th>\n",
       "      <th>concavity_se</th>\n",
       "      <th>concave_points_se</th>\n",
       "      <th>diagnosis</th>\n",
       "    </tr>\n",
       "  </thead>\n",
       "  <tbody>\n",
       "    <tr>\n",
       "      <th>0</th>\n",
       "      <td>1.084203</td>\n",
       "      <td>-2.092526</td>\n",
       "      <td>1.260185</td>\n",
       "      <td>0.968905</td>\n",
       "      <td>1.642284</td>\n",
       "      <td>3.273826</td>\n",
       "      <td>2.621146</td>\n",
       "      <td>2.514512</td>\n",
       "      <td>2.186130</td>\n",
       "      <td>2.363520</td>\n",
       "      <td>2.431939</td>\n",
       "      <td>-0.548182</td>\n",
       "      <td>2.773660</td>\n",
       "      <td>2.406884</td>\n",
       "      <td>-0.181684</td>\n",
       "      <td>1.273042</td>\n",
       "      <td>0.689477</td>\n",
       "      <td>0.656891</td>\n",
       "      <td>1</td>\n",
       "    </tr>\n",
       "    <tr>\n",
       "      <th>1</th>\n",
       "      <td>1.827006</td>\n",
       "      <td>-0.316372</td>\n",
       "      <td>1.681730</td>\n",
       "      <td>1.900116</td>\n",
       "      <td>-0.823159</td>\n",
       "      <td>-0.477121</td>\n",
       "      <td>-0.037927</td>\n",
       "      <td>0.533630</td>\n",
       "      <td>-0.006140</td>\n",
       "      <td>-0.849484</td>\n",
       "      <td>0.474716</td>\n",
       "      <td>-0.866924</td>\n",
       "      <td>0.244343</td>\n",
       "      <td>0.706411</td>\n",
       "      <td>-0.580826</td>\n",
       "      <td>-0.677640</td>\n",
       "      <td>-0.433062</td>\n",
       "      <td>0.258702</td>\n",
       "      <td>1</td>\n",
       "    </tr>\n",
       "    <tr>\n",
       "      <th>2</th>\n",
       "      <td>1.573646</td>\n",
       "      <td>0.520031</td>\n",
       "      <td>1.560692</td>\n",
       "      <td>1.547688</td>\n",
       "      <td>0.997724</td>\n",
       "      <td>1.054855</td>\n",
       "      <td>1.340251</td>\n",
       "      <td>2.020129</td>\n",
       "      <td>0.922053</td>\n",
       "      <td>-0.365492</td>\n",
       "      <td>1.191951</td>\n",
       "      <td>-0.768363</td>\n",
       "      <td>0.822709</td>\n",
       "      <td>1.134102</td>\n",
       "      <td>-0.266340</td>\n",
       "      <td>0.785914</td>\n",
       "      <td>0.197068</td>\n",
       "      <td>1.416192</td>\n",
       "      <td>1</td>\n",
       "    </tr>\n",
       "    <tr>\n",
       "      <th>3</th>\n",
       "      <td>-0.807354</td>\n",
       "      <td>0.310930</td>\n",
       "      <td>-0.627168</td>\n",
       "      <td>-0.792948</td>\n",
       "      <td>3.407500</td>\n",
       "      <td>3.392599</td>\n",
       "      <td>1.889028</td>\n",
       "      <td>1.435623</td>\n",
       "      <td>2.829003</td>\n",
       "      <td>5.093991</td>\n",
       "      <td>0.304723</td>\n",
       "      <td>-0.081970</td>\n",
       "      <td>0.267243</td>\n",
       "      <td>-0.297966</td>\n",
       "      <td>0.740015</td>\n",
       "      <td>2.658482</td>\n",
       "      <td>0.781504</td>\n",
       "      <td>1.108280</td>\n",
       "      <td>1</td>\n",
       "    </tr>\n",
       "    <tr>\n",
       "      <th>4</th>\n",
       "      <td>1.746391</td>\n",
       "      <td>-1.140757</td>\n",
       "      <td>1.773552</td>\n",
       "      <td>1.817023</td>\n",
       "      <td>0.316541</td>\n",
       "      <td>0.543945</td>\n",
       "      <td>1.347734</td>\n",
       "      <td>1.412449</td>\n",
       "      <td>-0.016975</td>\n",
       "      <td>-0.534598</td>\n",
       "      <td>1.233118</td>\n",
       "      <td>-0.778777</td>\n",
       "      <td>1.238334</td>\n",
       "      <td>1.142891</td>\n",
       "      <td>1.549180</td>\n",
       "      <td>-0.052185</td>\n",
       "      <td>0.790132</td>\n",
       "      <td>1.137298</td>\n",
       "      <td>1</td>\n",
       "    </tr>\n",
       "  </tbody>\n",
       "</table>\n",
       "</div>"
      ],
      "text/plain": [
       "   radius_mean  texture_mean  perimeter_mean  area_mean  smoothness_mean  \\\n",
       "0     1.084203     -2.092526        1.260185   0.968905         1.642284   \n",
       "1     1.827006     -0.316372        1.681730   1.900116        -0.823159   \n",
       "2     1.573646      0.520031        1.560692   1.547688         0.997724   \n",
       "3    -0.807354      0.310930       -0.627168  -0.792948         3.407500   \n",
       "4     1.746391     -1.140757        1.773552   1.817023         0.316541   \n",
       "\n",
       "   compactness_mean  concavity_mean  concave_points_mean  symmetry_mean  \\\n",
       "0          3.273826        2.621146             2.514512       2.186130   \n",
       "1         -0.477121       -0.037927             0.533630      -0.006140   \n",
       "2          1.054855        1.340251             2.020129       0.922053   \n",
       "3          3.392599        1.889028             1.435623       2.829003   \n",
       "4          0.543945        1.347734             1.412449      -0.016975   \n",
       "\n",
       "   fractal_dimension_mean  radius_se  texture_se  perimeter_se   area_se  \\\n",
       "0                2.363520   2.431939   -0.548182      2.773660  2.406884   \n",
       "1               -0.849484   0.474716   -0.866924      0.244343  0.706411   \n",
       "2               -0.365492   1.191951   -0.768363      0.822709  1.134102   \n",
       "3                5.093991   0.304723   -0.081970      0.267243 -0.297966   \n",
       "4               -0.534598   1.233118   -0.778777      1.238334  1.142891   \n",
       "\n",
       "   smoothness_se  compactness_se  concavity_se  concave_points_se  diagnosis  \n",
       "0      -0.181684        1.273042      0.689477           0.656891          1  \n",
       "1      -0.580826       -0.677640     -0.433062           0.258702          1  \n",
       "2      -0.266340        0.785914      0.197068           1.416192          1  \n",
       "3       0.740015        2.658482      0.781504           1.108280          1  \n",
       "4       1.549180       -0.052185      0.790132           1.137298          1  "
      ]
     },
     "execution_count": 17,
     "metadata": {},
     "output_type": "execute_result"
    }
   ],
   "source": [
    "scaler = StandardScaler()\n",
    "\n",
    "numeric_columns = df.select_dtypes(include=['float64', 'int64']).columns.drop('diagnosis')\n",
    "df[numeric_columns] = scaler.fit_transform(df[numeric_columns])\n",
    "\n",
    "df.head()"
   ]
  },
  {
   "cell_type": "markdown",
   "metadata": {},
   "source": [
    "### 2. Splitting data"
   ]
  },
  {
   "cell_type": "code",
   "execution_count": 18,
   "metadata": {},
   "outputs": [],
   "source": [
    "def manual_train_test_split(df, target_column, test_size=0.2):\n",
    "    shuffled_df = df.sample(frac=1).reset_index(drop=True)\n",
    "    split_index = int(len(shuffled_df) * (1 - test_size))\n",
    "\n",
    "    X = shuffled_df.drop(target_column, axis = 1)\n",
    "    y = shuffled_df[target_column]\n",
    "\n",
    "    X_train = X.iloc[:split_index]\n",
    "    y_train = y.iloc[:split_index]\n",
    "\n",
    "    X_test = X.iloc[split_index:]\n",
    "    y_test = y.iloc[split_index:]\n",
    "\n",
    "    return X_train, y_train, X_test, y_test"
   ]
  },
  {
   "cell_type": "code",
   "execution_count": 19,
   "metadata": {},
   "outputs": [],
   "source": [
    "X_train, y_train, X_test, y_test = manual_train_test_split(df, 'diagnosis', test_size=0.2)"
   ]
  },
  {
   "cell_type": "code",
   "execution_count": 20,
   "metadata": {},
   "outputs": [
    {
     "data": {
      "text/plain": [
       "0    0\n",
       "1    0\n",
       "2    1\n",
       "3    0\n",
       "4    1\n",
       "Name: diagnosis, dtype: int64"
      ]
     },
     "execution_count": 20,
     "metadata": {},
     "output_type": "execute_result"
    }
   ],
   "source": [
    "y_train.head()"
   ]
  },
  {
   "cell_type": "markdown",
   "metadata": {},
   "source": [
    "### 3. Algorithm"
   ]
  },
  {
   "cell_type": "markdown",
   "metadata": {},
   "source": [
    "KNN algorithm function"
   ]
  },
  {
   "cell_type": "code",
   "execution_count": 21,
   "metadata": {},
   "outputs": [],
   "source": [
    "class KNN:\n",
    "    def __init__(self, k):\n",
    "        self.k = k\n",
    "\n",
    "    def fit(self, X, y):\n",
    "        self.X_train = X\n",
    "        self.y_train = y\n",
    "\n",
    "    def predict(self, X_test):\n",
    "        predictions = []\n",
    "        distances = []\n",
    "        \n",
    "        for _, x_test in X_test.iterrows():\n",
    "            for _, x_train in self.X_train.iterrows():\n",
    "                distances.append(self._distance(x_test.values, x_train.values))\n",
    "\n",
    "            indices = np.argsort(distances)[:self.k]\n",
    "            labels = [self.y_train.iloc[i] for i in indices]\n",
    "\n",
    "            most_common = Counter(labels).most_common(1)\n",
    "            predictions.append(most_common[0][0])\n",
    "            distances.clear()\n",
    "        \n",
    "\n",
    "        return np.array(predictions)\n",
    "\n",
    "    @staticmethod\n",
    "    def _distance(x, y):\n",
    "        return np.sqrt(np.sum((x - y) ** 2))\n"
   ]
  },
  {
   "cell_type": "code",
   "execution_count": 22,
   "metadata": {},
   "outputs": [],
   "source": [
    "model = KNN(k=3)\n",
    "model.fit(X_train, y_train)\n",
    "predictions = model.predict(X_test)"
   ]
  },
  {
   "cell_type": "code",
   "execution_count": 23,
   "metadata": {},
   "outputs": [
    {
     "name": "stdout",
     "output_type": "stream",
     "text": [
      "[1 0 0 0 0 1 1 0 1 1 0 1 1 0 0 1 0 1 0 1 0 1 0 0 0 0 1 1 0 0 1 1 0 0 1 0 0\n",
      " 0 1 0 0 1 0 1 1 0 1 0 0 0 0 0 0 0 0 0 0 1 0 0 1 1 1 1 1 0 0 0 0 1 0 0 0 1\n",
      " 0 1 1 1 0 0 1 0 0 1 0 0 0 0 0 1 1 0 0 0 1 0 1 0 1 1]\n",
      "[1 0 0 0 0 1 1 0 1 1 0 1 1 0 0 1 0 1 0 0 0 1 0 0 0 0 1 1 0 0 1 1 0 0 1 0 0\n",
      " 0 1 0 0 1 0 1 1 0 1 0 0 0 0 0 0 0 0 0 0 1 0 0 1 1 1 0 1 0 0 0 0 1 0 0 0 1\n",
      " 0 1 1 1 0 0 1 0 0 1 0 0 0 0 0 1 1 0 0 1 0 0 1 0 1 1]\n"
     ]
    }
   ],
   "source": [
    "print(y_test.values)\n",
    "print(predictions)"
   ]
  },
  {
   "cell_type": "markdown",
   "metadata": {},
   "source": [
    "Performance evaluation for K = 1, 2, 3, 4, 5, 6, 7, 8, 9, 10"
   ]
  },
  {
   "cell_type": "code",
   "execution_count": 24,
   "metadata": {},
   "outputs": [],
   "source": [
    "def performance_metrics(y_true, y_pred):\n",
    "    TP = sum((y_true == 1) & (y_pred == 1))\n",
    "    TN = sum((y_true == 0) & (y_pred == 0))\n",
    "    FP = sum((y_true == 0) & (y_pred == 1))\n",
    "    FN = sum((y_true == 1) & (y_pred == 0))\n",
    "\n",
    "    precision = TP / (TP + FP) if TP + FP != 0 else 0\n",
    "    recall = TP / (TP + FN) if TP + FN != 0 else 0\n",
    "    f_measure = 2 * precision * recall / (precision + recall) if (precision + recall) > 0 else 0\n",
    "\n",
    "    return {\n",
    "        'TP': TP,\n",
    "        'TN': TN,\n",
    "        'FP': FP,\n",
    "        'FN': FN,\n",
    "        'precision': precision,\n",
    "        'recall': recall,\n",
    "        'f_measure': f_measure\n",
    "    }     "
   ]
  },
  {
   "cell_type": "code",
   "execution_count": 25,
   "metadata": {},
   "outputs": [
    {
     "name": "stdout",
     "output_type": "stream",
     "text": [
      "K = 1\n",
      "True Positives (TP): 37\n",
      "True Negatives (TN): 59\n",
      "False Positives (FP): 1\n",
      "False Negatives (FN): 3\n",
      "Precision: 0.9737\n",
      "Recall: 0.9250\n",
      "F-Measure: 0.9487\n",
      "------------------------------\n",
      "K = 2\n",
      "True Positives (TP): 37\n",
      "True Negatives (TN): 59\n",
      "False Positives (FP): 1\n",
      "False Negatives (FN): 3\n",
      "Precision: 0.9737\n",
      "Recall: 0.9250\n",
      "F-Measure: 0.9487\n",
      "------------------------------\n",
      "K = 3\n",
      "True Positives (TP): 37\n",
      "True Negatives (TN): 59\n",
      "False Positives (FP): 1\n",
      "False Negatives (FN): 3\n",
      "Precision: 0.9737\n",
      "Recall: 0.9250\n",
      "F-Measure: 0.9487\n",
      "------------------------------\n",
      "K = 4\n",
      "True Positives (TP): 37\n",
      "True Negatives (TN): 60\n",
      "False Positives (FP): 0\n",
      "False Negatives (FN): 3\n",
      "Precision: 1.0000\n",
      "Recall: 0.9250\n",
      "F-Measure: 0.9610\n",
      "------------------------------\n",
      "K = 5\n",
      "True Positives (TP): 36\n",
      "True Negatives (TN): 59\n",
      "False Positives (FP): 1\n",
      "False Negatives (FN): 4\n",
      "Precision: 0.9730\n",
      "Recall: 0.9000\n",
      "F-Measure: 0.9351\n",
      "------------------------------\n",
      "K = 6\n",
      "True Positives (TP): 36\n",
      "True Negatives (TN): 60\n",
      "False Positives (FP): 0\n",
      "False Negatives (FN): 4\n",
      "Precision: 1.0000\n",
      "Recall: 0.9000\n",
      "F-Measure: 0.9474\n",
      "------------------------------\n",
      "K = 7\n",
      "True Positives (TP): 35\n",
      "True Negatives (TN): 60\n",
      "False Positives (FP): 0\n",
      "False Negatives (FN): 5\n",
      "Precision: 1.0000\n",
      "Recall: 0.8750\n",
      "F-Measure: 0.9333\n",
      "------------------------------\n",
      "K = 8\n",
      "True Positives (TP): 36\n",
      "True Negatives (TN): 60\n",
      "False Positives (FP): 0\n",
      "False Negatives (FN): 4\n",
      "Precision: 1.0000\n",
      "Recall: 0.9000\n",
      "F-Measure: 0.9474\n",
      "------------------------------\n",
      "K = 9\n",
      "True Positives (TP): 34\n",
      "True Negatives (TN): 59\n",
      "False Positives (FP): 1\n",
      "False Negatives (FN): 6\n",
      "Precision: 0.9714\n",
      "Recall: 0.8500\n",
      "F-Measure: 0.9067\n",
      "------------------------------\n",
      "K = 10\n",
      "True Positives (TP): 36\n",
      "True Negatives (TN): 59\n",
      "False Positives (FP): 1\n",
      "False Negatives (FN): 4\n",
      "Precision: 0.9730\n",
      "Recall: 0.9000\n",
      "F-Measure: 0.9351\n",
      "------------------------------\n"
     ]
    }
   ],
   "source": [
    "precisions = []\n",
    "\n",
    "for k in range(1, 11):\n",
    "    model = KNN(k=k)\n",
    "    model.fit(X_train, y_train)\n",
    "    predictions = model.predict(X_test)\n",
    "    metrics = performance_metrics(y_test.values, predictions)\n",
    "    precisions.append(metrics['precision'])\n",
    "\n",
    "    print(f\"K = {k}\")\n",
    "    print(f\"True Positives (TP): {metrics['TP']}\")\n",
    "    print(f\"True Negatives (TN): {metrics['TN']}\")\n",
    "    print(f\"False Positives (FP): {metrics['FP']}\")\n",
    "    print(f\"False Negatives (FN): {metrics['FN']}\")\n",
    "    print(f\"Precision: {metrics['precision']:.4f}\")\n",
    "    print(f\"Recall: {metrics['recall']:.4f}\")\n",
    "    print(f\"F-Measure: {metrics['f_measure']:.4f}\")\n",
    "    print('-' * 30) "
   ]
  },
  {
   "cell_type": "markdown",
   "metadata": {},
   "source": [
    "Precision curve"
   ]
  },
  {
   "cell_type": "code",
   "execution_count": 26,
   "metadata": {},
   "outputs": [
    {
     "data": {
      "image/png": "[encoded data removed]",
      "text/plain": [
       "<Figure size 640x480 with 1 Axes>"
      ]
     },
     "metadata": {},
     "output_type": "display_data"
    }
   ],
   "source": [
    "plt.plot(range(1, 11), precisions, marker='o', label='Precision')\n",
    "plt.xlabel('K')\n",
    "plt.ylabel('Precision')\n",
    "plt.xticks(range(1, 11, 1))\n",
    "plt.legend()\n",
    "plt.grid()\n",
    "plt.show()\n"
   ]
  },
  {
   "cell_type": "markdown",
   "metadata": {},
   "source": [
    "Best K is **3**"
   ]
  }
 ],
 "metadata": {
  "kernelspec": {
   "display_name": "Python 3",
   "language": "python",
   "name": "python3"
  },
  "language_info": {
   "codemirror_mode": {
    "name": "ipython",
    "version": 3
   },
   "file_extension": ".py",
   "mimetype": "text/x-python",
   "name": "python",
   "nbconvert_exporter": "python",
   "pygments_lexer": "ipython3",
   "version": "3.12.3"
  }
 },
 "nbformat": 4,
 "nbformat_minor": 2
}
