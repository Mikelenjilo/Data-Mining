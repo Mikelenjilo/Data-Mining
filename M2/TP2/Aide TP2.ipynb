{
 "cells": [
  {
   "cell_type": "markdown",
   "metadata": {},
   "source": [
    "### Qu'est-ce que le classifieur Bayesien Naïf ?\n",
    "Le classifieur Bayesien Naïf est un algorithme d'apprentissage supervisé utilisé pour des problèmes de classification. Il repose sur le théorème de Bayes et sur une hypothèse simplificatrice : l'indépendance conditionnelle des attributs. Autrement dit, il suppose que la présence d'une caractéristique particulière dans un échantillon est indépendante de la présence de toute autre caractéristique, étant donné la classe de l'échantillon.\n",
    "\n",
    "### Le fonctionnement \n",
    "Calcul des probabilités a priori: On calcule la probabilité de chaque classe dans l'ensemble de données d'apprentissage.\n",
    "\n",
    "Calcul des probabilités conditionnelles: Pour chaque attribut et chaque classe, on calcule la probabilité que cet attribut prenne une valeur particulière étant donné la classe.\n",
    "\n",
    "Classification d'un nouvel échantillon: Pour classer un nouvel échantillon, on calcule la probabilité a posteriori de chaque classe étant donné les valeurs des attributs de cet échantillon en utilisant le théorème de Bayes. On affecte ensuite l'échantillon à la classe ayant la probabilité a posteriori la plus élevée.\n",
    "\n",
    "### Pourquoi \"naïf\" ?\n",
    "Le terme \"naïf\" est utilisé car l'hypothèse d'indépendance conditionnelle est rarement vérifiée dans la réalité. Cependant, malgré cette simplification, le classifieur Bayesien Naïf s'avère souvent très efficace en pratique, notamment pour les problèmes de grande dimension et avec des données éparses.\n",
    "\n",
    "### Applications\n",
    "Le classifieur Bayesien Naïf est utilisé dans de nombreux domaines, notamment :\n",
    "\n",
    "Filtrage de spam: Pour différencier les emails légitimes des spams.\n",
    "\n",
    "Classification de textes: Pour catégoriser des documents (articles, tweets, etc.) selon leur sujet.\n",
    "\n",
    "Analyse de sentiments: Pour déterminer si un texte exprime une opinion positive, négative ou neutre.\n",
    "\n",
    "Diagnostic médical: Pour prédire la présence d'une maladie en fonction de différents symptômes.\n",
    "\n",
    "### Avantages\n",
    "Simple à implémenter: L'algorithme est relativement facile à comprendre et à mettre en œuvre.\n",
    "\n",
    "Efficace pour les grands ensembles de données: Il est capable de traiter de grandes quantités de données rapidement.\n",
    "\n",
    "Bonne performance: Malgré son hypothèse simplificatrice, il obtient souvent de bons résultats, notamment pour les problèmes de classification de texte.\n",
    "\n",
    "### Limites\n",
    "Hypothèse d'indépendance: L'hypothèse d'indépendance conditionnelle peut ne pas être réaliste dans de nombreux cas, ce qui peut dégrader les performances du classifieur.\n",
    "\n",
    "Problème des zéros: Si un attribut n'apparaît pas avec une certaine classe dans les données d'apprentissage, la  probabilité conditionnelle associée sera nulle, ce qui peut poser problème lors du calcul des probabilités a posteriori. Pour résoudre ce problème, on utilise souvent des techniques de lissage (par exemple, le lissage de Laplace)."
   ]
  },
  {
   "cell_type": "markdown",
   "metadata": {},
   "source": [
    "![title](.//Cap1.PNG)\n",
    "![title](.//Cap2.PNG)\n",
    "![title](.//Cap3.PNG)"
   ]
  }
 ],
 "metadata": {
  "kernelspec": {
   "display_name": "base",
   "language": "python",
   "name": "python3"
  },
  "language_info": {
   "codemirror_mode": {
    "name": "ipython",
    "version": 3
   },
   "file_extension": ".py",
   "mimetype": "text/x-python",
   "name": "python",
   "nbconvert_exporter": "python",
   "pygments_lexer": "ipython3",
   "version": "3.9.13"
  }
 },
 "nbformat": 4,
 "nbformat_minor": 2
}
