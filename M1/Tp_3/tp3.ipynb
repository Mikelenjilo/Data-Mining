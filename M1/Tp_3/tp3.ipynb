{
 "cells": [
  {
   "cell_type": "markdown",
   "metadata": {
    "collapsed": false
   },
   "source": [
    "Imports"
   ]
  },
  {
   "cell_type": "code",
   "execution_count": 24,
   "metadata": {
    "collapsed": false
   },
   "outputs": [],
   "source": [
    "import pandas as pd\n",
    "import numpy as np\n",
    "import matplotlib.pyplot as plt\n",
    "from scipy.io.arff import loadarff\n",
    "from scipy.cluster.hierarchy import dendrogram, linkage\n",
    "from sklearn.cluster import KMeans, AgglomerativeClustering\n",
    "from sklearn.cluster import DBSCAN\n",
    "from sklearn_extra.cluster import KMedoids\n",
    "from math import sqrt"
   ]
  },
  {
   "cell_type": "markdown",
   "metadata": {
    "collapsed": false
   },
   "source": [
    "Lecture des donness"
   ]
  },
  {
   "cell_type": "code",
   "execution_count": 25,
   "metadata": {
    "collapsed": false,
    "is_executing": true
   },
   "outputs": [
    {
     "name": "stdout",
     "output_type": "stream",
     "text": [
      "   age  sex  cp  trtbps  chol  fbs  restecg  thalachh  exng  oldpeak  slp  \\\n",
      "0   60    1   3     145   233    1        0       150     0      2.3    0   \n",
      "1   35    1   2     130   250    0        1       187     0      3.5    0   \n",
      "2   41    0   1     130   204    0        0       172     0      1.4    2   \n",
      "3   55    1   1     120   236    0        1       178     0      0.8    2   \n",
      "4   56    0   0     120   354    0        1       163     1      0.6    2   \n",
      "\n",
      "   caa  thall  output  \n",
      "0    0      1       1  \n",
      "1    0      2       1  \n",
      "2    0      2       1  \n",
      "3    0      2       1  \n",
      "4    0      2       1  \n"
     ]
    }
   ],
   "source": [
    "data_frame = None\n",
    "file_path = '../heart.csv'\n",
    "if file_path.endswith('.csv'):\n",
    "    data_frame = pd.read_csv(file_path)\n",
    "elif file_path.endswith('.arff'):\n",
    "    raw_data = loadarff(file_path)\n",
    "    data_frame = pd.DataFrame(raw_data[0])\n",
    "else:\n",
    "    print(\"Format de fichier non pris en charge.\")\n",
    "\n",
    "print(data_frame.head())"
   ]
  },
  {
   "cell_type": "markdown",
   "metadata": {},
   "source": [
    "Preprocessing des donnees"
   ]
  },
  {
   "cell_type": "code",
   "execution_count": 26,
   "metadata": {},
   "outputs": [
    {
     "name": "stdout",
     "output_type": "stream",
     "text": [
      "Index(['age', 'sex', 'cp', 'trtbps', 'chol', 'fbs', 'restecg', 'thalachh',\n",
      "       'exng', 'oldpeak', 'slp', 'caa', 'thall', 'output'],\n",
      "      dtype='object')\n"
     ]
    }
   ],
   "source": [
    "attributs = data_frame.columns\n",
    "print(attributs)\n",
    "for attribut in data_frame.columns:\n",
    "    a = data_frame[attribut]\n",
    "    if a.dtype == \"object\":\n",
    "        data_frame.replace('?', a.mode().values[0], inplace=True)\n",
    "    else:\n",
    "        data_frame.replace('?', a.mean(), inplace=True)"
   ]
  },
  {
   "cell_type": "markdown",
   "metadata": {},
   "source": [
    "Elbow method"
   ]
  },
  {
   "cell_type": "code",
   "execution_count": 27,
   "metadata": {},
   "outputs": [
    {
     "data": {
      "image/png": "[encoded data removed]",
      "text/plain": [
       "<Figure size 640x480 with 1 Axes>"
      ]
     },
     "metadata": {},
     "output_type": "display_data"
    }
   ],
   "source": [
    "data = data_frame.values\n",
    "results = {}\n",
    "\n",
    "for i in range(2, 21, 2):\n",
    "    model = KMeans(n_clusters=i, n_init=\"auto\").fit(data)\n",
    "    results[i] = round(model.inertia_, 2)\n",
    "\n",
    "clusters = list(results.keys())\n",
    "inertia = list(results.values())\n",
    "plt.plot(clusters, inertia, marker='o')\n",
    "plt.xticks(clusters)\n",
    "plt.xlabel('Nombre de clusters')\n",
    "plt.ylabel('Inertie')\n",
    "plt.title('Elbow Method')\n",
    "plt.show()"
   ]
  },
  {
   "cell_type": "markdown",
   "metadata": {},
   "source": [
    "Algorithm AGNES"
   ]
  },
  {
   "cell_type": "code",
   "execution_count": 28,
   "metadata": {},
   "outputs": [],
   "source": [
    "agnes_algo = AgglomerativeClustering(n_clusters=13, linkage='ward')\n",
    "model = agnes_algo.fit(data)"
   ]
  },
  {
   "cell_type": "markdown",
   "metadata": {},
   "source": [
    "Histogramme des inerties des 5 methodes (K_means, K_medoids, Agnes, Diana et DBScan)"
   ]
  },
  {
   "cell_type": "code",
   "execution_count": 34,
   "metadata": {},
   "outputs": [
    {
     "name": "stdout",
     "output_type": "stream",
     "text": [
      "Distance inter-classe KMeans:  175110.29\n",
      "Distance inter-classe KMedoids:  7084.15\n",
      "Distance inter-classe Agnes:  0\n",
      "Distance intra-classe KMeans:  13934.59\n",
      "Distance intra-classe KMedoids:  8973.12\n"
     ]
    }
   ],
   "source": [
    "def distance_euclidienne(a, b):\n",
    "    dist = []\n",
    "    for i in range(len(a)):\n",
    "        dist.append((a[i] - b[i])**2)\n",
    "    \n",
    "    return sqrt(sum(dist))\n",
    "\n",
    "kmeans_model = KMeans(n_clusters=13, n_init=\"auto\").fit(data)\n",
    "kmedoids_model = KMedoids(n_clusters=13).fit(data)\n",
    "agnes_model = AgglomerativeClustering(n_clusters=13).fit(data)\n",
    "\n",
    "\n",
    "# distance inter-classes kmeans\n",
    "distance_inter_classe_kmeans = round(kmeans_model.inertia_, 2)\n",
    "# distance inter-classes kmedoids\n",
    "distance_inter_classe_kmedoid = round(kmedoids_model.inertia_, 2)\n",
    "# distance inter-classes agnes\n",
    "distance_inter_classe_agnes = round(agnes_model.compute_distances  , 2)\n",
    "\n",
    "# distance intra-classe kmeans\n",
    "centroids_coords = {}\n",
    "distance_intra_classe_kmeans = 0\n",
    "\n",
    "for index, i in enumerate(kmeans_model.cluster_centers_):\n",
    "    centroids_coords[index] = i\n",
    "\n",
    "for centroid_1 in centroids_coords:\n",
    "    for centroid_2 in centroids_coords:\n",
    "        if centroid_1 != centroid_2:\n",
    "            dist = distance_euclidienne(centroids_coords[centroid_1], centroids_coords[centroid_2]) \n",
    "            distance_intra_classe_kmeans += dist\n",
    "\n",
    "distance_intra_classe_kmeans = round(distance_intra_classe_kmeans, 2)\n",
    "\n",
    "# distance intra-classe kmedoids\n",
    "centroids_coords = {}\n",
    "distance_intra_classe_kmedoid = 0\n",
    "\n",
    "for index, i in enumerate(kmedoids_model.cluster_centers_):\n",
    "    centroids_coords[index] = i\n",
    "\n",
    "for centroid_1 in centroids_coords:\n",
    "    for centroid_2 in centroids_coords:\n",
    "        if centroid_1 != centroid_2:\n",
    "            dist = distance_euclidienne(centroids_coords[centroid_1], centroids_coords[centroid_2]) \n",
    "            distance_intra_classe_kmedoid += dist\n",
    "\n",
    "distance_intra_classe_kmedoid = round(distance_intra_classe_kmedoid, 2)\n",
    "\n",
    "# # distance intra-classe agnes\n",
    "# centroids_coords = {}\n",
    "# distance_intra_classe_agnes = 0\n",
    "\n",
    "# for index, i in enumerate(agnes_model.cluster_centers_):\n",
    "#     centroids_coords[index] = i\n",
    "\n",
    "# for centroid_1 in centroids_coords:\n",
    "#     for centroid_2 in centroids_coords:\n",
    "#         if centroid_1 != centroid_2:\n",
    "#             dist = distance_euclidienne(centroids_coords[centroid_1], centroids_coords[centroid_2]) \n",
    "#             distance_intra_classe_agnes += dist\n",
    "\n",
    "# distance_intra_classe_agnes = round(distance_intra_classe_agnes, 2)\n",
    "\n",
    "print(\"Distance inter-classe KMeans: \", distance_inter_classe_kmeans)\n",
    "print(\"Distance inter-classe KMedoids: \", distance_inter_classe_kmedoid)\n",
    "print(\"Distance inter-classe Agnes: \", distance_inter_classe_agnes)\n",
    "print(\"Distance intra-classe KMeans: \", distance_intra_classe_kmeans)\n",
    "print(\"Distance intra-classe KMedoids: \", distance_intra_classe_kmedoid)\n",
    "# print(\"Distance intra-classe Agnes: \", distance_intra_classe_agnes)"
   ]
  },
  {
   "cell_type": "code",
   "execution_count": null,
   "metadata": {},
   "outputs": [],
   "source": [
    "\n"
   ]
  }
 ],
 "metadata": {
  "kernelspec": {
   "display_name": "Python 3",
   "language": "python",
   "name": "python3"
  },
  "language_info": {
   "codemirror_mode": {
    "name": "ipython",
    "version": 3
   },
   "file_extension": ".py",
   "mimetype": "text/x-python",
   "name": "python",
   "nbconvert_exporter": "python",
   "pygments_lexer": "ipython3",
   "version": "3.11.3"
  }
 },
 "nbformat": 4,
 "nbformat_minor": 2
}
