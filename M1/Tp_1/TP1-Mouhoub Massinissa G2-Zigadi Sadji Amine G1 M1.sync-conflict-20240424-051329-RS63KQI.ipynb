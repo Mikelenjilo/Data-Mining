{
 "cells": [
  {
   "cell_type": "markdown",
   "metadata": {},
   "source": [
    "# TP1 - Partie 1\n",
    "### 1. Manipulation et exploration d'un fichier d'apprentissage\n",
    "#### 1.1 Ouverture de benchmarks dna_sequences.arff\n",
    "On utilise la bibliotheque `pandas` afin de de lire le fichier csv"
   ]
  },
  {
   "cell_type": "code",
   "execution_count": null,
   "metadata": {},
   "outputs": [],
   "source": [
    "import pandas as pd\n",
    "import matplotlib.pyplot as plt\n",
    "\n",
    "# Ouverture de benchmarks\n",
    "file = \"Data/horse-colic.csv\"\n",
    "data_frame = pd.read_csv(file)"
   ]
  },
  {
   "cell_type": "markdown",
   "metadata": {},
   "source": [
    "#### 1.2. Lecture et affichage des donnees\n",
    "Affichage des donnees a l'aide de la fonction `head()` qui permet d'afficher les 5 premiers lignes du fichier"
   ]
  },
  {
   "cell_type": "code",
   "execution_count": null,
   "metadata": {},
   "outputs": [],
   "source": [
    "data_frame.head(5)"
   ]
  },
  {
   "cell_type": "markdown",
   "metadata": {},
   "source": [
    "##### 1.2.1 Nombre d'instances\n",
    "On utilise l'attribut shape qui permet de retourner un tuple qui contient le nombre de lignes et nombre de collones."
   ]
  },
  {
   "cell_type": "code",
   "execution_count": null,
   "metadata": {},
   "outputs": [],
   "source": [
    "(nb_rows, nb_columns) = data_frame.shape\n",
    "print(\"Nombre de lignes : \", nb_rows - 1) # -1 pour enlever la ligne d'entête"
   ]
  },
  {
   "cell_type": "markdown",
   "metadata": {},
   "source": [
    "##### 1.2.2 Nom des attributs et leur nombre et leur type \n",
    "On utilise `data.columns` pour avoir les attributs.\n",
    "\n",
    "On utilise `len()` pour avoir le nombre des attributs.\n",
    "\n",
    "On utilise `data.dtypes` pour avoir le type de tous les attributs.\n"
   ]
  },
  {
   "cell_type": "code",
   "execution_count": null,
   "metadata": {},
   "outputs": [],
   "source": [
    "print('Nom des attributs :', data_frame.columns.tolist())\n",
    "print('Nombre d\\'attributs :', len(data_frame.columns.tolist()))\n",
    "print('Type des attributs :', data_frame.dtypes.tolist())"
   ]
  },
  {
   "cell_type": "markdown",
   "metadata": {},
   "source": [
    "##### 1.2.3 Les 5 nombres pour chaque attributs: le min, le max, le median, Q1 et Q3\n",
    "Pour le minimum on utilise la fonction `min()`\n",
    "\n",
    "Pour le maximum on utilise la fonction `max()`\n",
    "\n",
    "Pour le median on utilise la fonction `median()` ou bien `quantile([0.5])`\n",
    "\n",
    "Pour le premier quartil Q1 on utilise la fonction `quantile([0.25])`\n",
    "\n",
    "Pour le deuxieme quartil Q2 on utilise la fonction `quantile([0.75])`"
   ]
  },
  {
   "cell_type": "code",
   "execution_count": null,
   "metadata": {},
   "outputs": [],
   "source": [
    "attributs = data_frame.columns.tolist()\n",
    "\n",
    "for attribut in attributs:\n",
    "    a = data_frame[attribut]\n",
    "    if a.dtype != \"object\":\n",
    "        print('Attribut: ', attribut)\n",
    "        print('\\t- Min: ', a.min())\n",
    "        print('\\t- Max: ', a.max())\n",
    "        print('\\t- Median: ', a.median()) # ou bien on utilise a.quntile([0.5])\n",
    "        print('\\t- Premier quartil: ', a.quantile([0.25]).values[0]) \n",
    "        print('\\t- Troisieme quartil: ', a.quantile([0.75]).values[0]) \n",
    "        print('----------------------------------------------------')\n",
    "    else:\n",
    "        print('Impossible de caluler les 5 nombres a cause du type.')\n",
    "        print('----------------------------------------------------')"
   ]
  },
  {
   "cell_type": "markdown",
   "metadata": {},
   "source": [
    "En utilisant des fonction non predefinies"
   ]
  },
  {
   "cell_type": "code",
   "execution_count": null,
   "metadata": {},
   "outputs": [],
   "source": [
    "def min(data):\n",
    "    minimum = 0\n",
    "    for x in data:\n",
    "        if x < minimum:\n",
    "            minimum = x\n",
    "\n",
    "    return minimum\n",
    "\n",
    "def max(data):\n",
    "    maximum = 0\n",
    "    for x in data:\n",
    "        if x > maximum:\n",
    "            maximum = x\n",
    "\n",
    "    return maximum\n",
    "\n",
    "def median(data):\n",
    "    data.sort()\n",
    "    a = len(data)\n",
    "    pos = a / 2 - 1\n",
    "    median_value = 0\n",
    "\n",
    "    if pos % 1 == 0:\n",
    "        value_1 = data[int(pos)]\n",
    "        value_2 = data[int(pos) + 1]\n",
    "        median_value = (value_1 + value_2) / 2\n",
    "    else:\n",
    "        median_value = pos // 2 + 1 \n",
    "    \n",
    "    return median_value\n",
    "\n",
    "def quantile(data, quan):\n",
    "    data.sort()\n",
    "    a = len(data)\n",
    "    pos = a * quan - 1\n",
    "    quan_value = 0\n",
    "\n",
    "    if quan == 0.5:\n",
    "        quan_value = median(data)\n",
    "    else:\n",
    "        if pos % 1 == 0:\n",
    "            value_1 = data[int(pos)]\n",
    "            value_2 = data[int(pos) + 1]\n",
    "            quan_value = (value_1 + value_2) / 2\n",
    "        else:\n",
    "            quan_value = pos // 2 + 1\n",
    "    \n",
    "    return quan_value"
   ]
  },
  {
   "cell_type": "code",
   "execution_count": null,
   "metadata": {},
   "outputs": [],
   "source": [
    "attributs = data_frame.columns.tolist()\n",
    "\n",
    "for attribut in attributs:\n",
    "    a = data_frame[attribut]\n",
    "    if a.dtype != \"object\":\n",
    "        print('Attribut: ', attribut)\n",
    "        print('\\t- Min: ', min(a.values))\n",
    "        print('\\t- Max: ', max(a.values))\n",
    "        print('\\t- Median: ', median(a.values)) \n",
    "        print('\\t- Premier quartil: ', quantile(a.values, 0.25)) \n",
    "        print('\\t- Troisiem quartil: ', quantile(a.values, 0.75)) \n",
    "        print('----------------------------------------------------')\n",
    "    else:\n",
    "        print('Impossible de caluler les 5 nombres a cause du type.')\n",
    "        print('----------------------------------------------------')"
   ]
  },
  {
   "cell_type": "markdown",
   "metadata": {},
   "source": [
    "##### 1.2.4 Boxplots de chaque attributs sur le meme graphe\n",
    "On utilise la bibliotheque `matplotlib` pour afficher les boxplots."
   ]
  },
  {
   "cell_type": "code",
   "execution_count": null,
   "metadata": {},
   "outputs": [],
   "source": [
    "data_frame.boxplot()\n",
    "plt.xticks(rotation=45)\n",
    "plt.title('Boxplots de tous les attributs')\n",
    "plt.xlabel('Attributs')\n",
    "plt.ylabel('Valeurs')\n",
    "\n",
    "plt.show()\n"
   ]
  },
  {
   "cell_type": "markdown",
   "metadata": {},
   "source": [
    "##### 1.2.5 Scatter plot"
   ]
  },
  {
   "cell_type": "code",
   "execution_count": null,
   "metadata": {},
   "outputs": [],
   "source": [
    "attributs = data_frame.columns\n",
    "\n",
    "for x in attributs:\n",
    "    for y in attributs:\n",
    "        if (x != y):\n",
    "            x_column = data_frame[x]\n",
    "            y_column = data_frame[y]\n",
    "            plt.scatter(x_column, y_column, color='red')\n",
    "            plt.xlabel(x_column.name)\n",
    "            plt.ylabel(y_column.name)\n",
    "\n",
    "            plt.tight_layout()\n",
    "            plt.show()"
   ]
  },
  {
   "cell_type": "markdown",
   "metadata": {},
   "source": [
    "##### 1.2.6 Mode, mean, median pour chaque attribut\n",
    "Pour le mode on utilise la fonction `mode()`\n",
    "\n",
    "Pour le mean on utilise la fonction `mean()`\n",
    "\n",
    "Pour le median on utilise la fonction `median()`"
   ]
  },
  {
   "cell_type": "code",
   "execution_count": null,
   "metadata": {},
   "outputs": [],
   "source": [
    "attributs = data_frame.columns\n",
    "for attribut in attributs:\n",
    "    a = data_frame[attribut]\n",
    "    if a.dtype != \"object\":\n",
    "        print(\"\\nAttribut:\", attribut)\n",
    "        print(\"\\t- Mode:\", a.mode().values[0])\n",
    "        print(\"\\t- Mean:\", a.mean())\n",
    "        print(\"\\t- Median:\", a.median())\n",
    "        print('----------------------------------------------------')\n",
    "    else:\n",
    "        print('Impossible de calculer le mode, le mean et le median de cette attribut')\n",
    "        print('----------------------------------------------------')"
   ]
  },
  {
   "cell_type": "markdown",
   "metadata": {},
   "source": [
    "On utilisant des fonction non predefinis"
   ]
  },
  {
   "cell_type": "code",
   "execution_count": null,
   "metadata": {},
   "outputs": [],
   "source": [
    "def mode(data):\n",
    "    occ = {}\n",
    "    for x in data:\n",
    "        occ[x] = 0\n",
    "        for a in data:\n",
    "            if x == a:\n",
    "                occ[x] += 1\n",
    "\n",
    "    keys = list(occ.keys())\n",
    "    values = list(occ.values())\n",
    "    mode_value = keys[values.index(max(values))]\n",
    "\n",
    "    return mode_value\n",
    "\n",
    "def mean(data):\n",
    "    a = len(data)\n",
    "    sum_value = sum(data)\n",
    "\n",
    "    return sum_value / a\n",
    "\n",
    "\n",
    "def median(data):\n",
    "    data.sort()\n",
    "    a = len(data)\n",
    "    pos = a / 2 - 1\n",
    "    median_value = 0\n",
    "\n",
    "    if pos % 1 == 0:\n",
    "        value_1 = data[int(pos)]\n",
    "        value_2 = data[int(pos) + 1]\n",
    "        median_value = (value_1 + value_2) / 2\n",
    "    else:\n",
    "        median_value = pos // 2 + 1 \n",
    "    \n",
    "    return median_value"
   ]
  },
  {
   "cell_type": "code",
   "execution_count": null,
   "metadata": {},
   "outputs": [],
   "source": [
    "attributs = data_frame.columns\n",
    "for attribut in attributs:\n",
    "    a = data_frame[attribut]\n",
    "    print(\"\\nAttribut:\", attribut)\n",
    "    print(\"\\t- Mode:\", mode(a.values))\n",
    "    if a.dtype != \"object\":\n",
    "        print(\"\\t- Mean:\", mean(a.values))\n",
    "        print(\"\\t- Median:\", median(a.values))\n",
    "        print('----------------------------------------------------')\n",
    "    else:\n",
    "        print('Impossible de calculer le mode, le mean et le median de cette attribut')\n",
    "        print('----------------------------------------------------')"
   ]
  },
  {
   "cell_type": "markdown",
   "metadata": {},
   "source": [
    "##### 1.2.7 Valeurs manquantes\n",
    "On remplate les valeurs null de type `object` par le mode `mode()`, et toutes les valeurs numerique seront remplacee par la moyenne `mean()`."
   ]
  },
  {
   "cell_type": "code",
   "execution_count": null,
   "metadata": {},
   "outputs": [],
   "source": [
    "attributs = data_frame.columns\n",
    "\n",
    "for attribut in data_frame.columns:\n",
    "    a = data_frame[attribut]\n",
    "    if a.dtype == \"object\":\n",
    "        data_frame.replace('?', a.mode().values[0], inplace=True)\n",
    "    else:\n",
    "        data_frame.replace('?', a.median(), inplace=True)\n",
    "\n",
    "print(data_frame)"
   ]
  },
  {
   "cell_type": "markdown",
   "metadata": {},
   "source": [
    "##### 1.2.8 Normaliser les données par MIN/MAX"
   ]
  },
  {
   "cell_type": "code",
   "execution_count": null,
   "metadata": {},
   "outputs": [],
   "source": [
    "attributs = data_frame.columns\n",
    "\n",
    "for attribut in attributs:\n",
    "    a = data_frame[attribut]\n",
    "    if data_frame[attribut].dtype != \"object\":\n",
    "        min = a.min()\n",
    "        max = a.max()\n",
    "        a = (a - min) / (max - min)\n",
    "\n",
    "    print(a.values)"
   ]
  },
  {
   "cell_type": "markdown",
   "metadata": {},
   "source": [
    "##### 1.2.9 Normaliser les données par Z-Score"
   ]
  },
  {
   "cell_type": "code",
   "execution_count": null,
   "metadata": {},
   "outputs": [],
   "source": [
    "attributs = data_frame.columns\n",
    "\n",
    "for attribut in attributs:\n",
    "    a = data_frame[attribut]\n",
    "\n",
    "    if a.dtype != \"object\":\n",
    "        a = (a - a.mean()) / a.std()\n",
    "\n",
    "    print(a.values)"
   ]
  }
 ],
 "metadata": {
  "kernelspec": {
   "display_name": "Python 3",
   "language": "python",
   "name": "python3"
  },
  "language_info": {
   "codemirror_mode": {
    "name": "ipython",
    "version": 3
   },
   "file_extension": ".py",
   "mimetype": "text/x-python",
   "name": "python",
   "nbconvert_exporter": "python",
   "pygments_lexer": "ipython3",
   "version": "3.11.3"
  }
 },
 "nbformat": 4,
 "nbformat_minor": 2
}
